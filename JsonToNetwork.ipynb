{
 "cells": [
  {
   "cell_type": "markdown",
   "metadata": {},
   "source": [
    "# Json To Network"
   ]
  },
  {
   "cell_type": "markdown",
   "metadata": {},
   "source": [
    "## 01 Data Load"
   ]
  },
  {
   "cell_type": "code",
   "execution_count": 1,
   "metadata": {},
   "outputs": [],
   "source": [
    "import networkx as nx\n",
    "import json\n",
    "import matplotlib.pyplot as plt\n",
    "# from networkx.algorithms import community\n",
    "import community # python-louvain\n",
    "import seaborn as sns\n",
    "import matplotlib.cm as cm"
   ]
  },
  {
   "cell_type": "code",
   "execution_count": 2,
   "metadata": {},
   "outputs": [],
   "source": [
    "with open('./Data_20211122.json', 'r', encoding='utf-8') as file:\n",
    "    data = json.load(file)"
   ]
  },
  {
   "cell_type": "code",
   "execution_count": 3,
   "metadata": {},
   "outputs": [
    {
     "data": {
      "text/plain": "dict_keys(['Node_paper', 'Node_text', 'Node_person', 'Node_journal', 'Node_volume', 'Node_book', 'Node_publisher', 'Node_group', 'Node_term', 'Link_person2paper', 'Link_paper2volume', 'Link_paper2book', 'Link_volume2journal', 'Link_group2journal', 'Link_publisher2book', 'Link_text2paper', 'Link_book2text', 'Link_paper2text', 'Link_term2text', 'Link_person2text'])"
     },
     "execution_count": 3,
     "metadata": {},
     "output_type": "execute_result"
    }
   ],
   "source": [
    "data.keys()"
   ]
  },
  {
   "cell_type": "code",
   "execution_count": 4,
   "metadata": {},
   "outputs": [
    {
     "data": {
      "text/plain": "[{'id': 'T01SP001', 'class_field': 'Text', 'name': '1.서론'},\n {'id': 'T02SP001', 'class_field': 'Text', 'name': \"2.문학사의 전회와 '문화론적 연구'\"},\n {'id': 'T03SP001', 'class_field': 'Text', 'name': '3.근대 문학주의와 문화적 현실에 대한 성찰'},\n {'id': 'T04SP001',\n  'class_field': 'Text',\n  'name': \"4.문화사로서의 '문화론적 연구'와 문화연구로서의 '문화론적 연구'\"},\n {'id': 'T05SP001', 'class_field': 'Text', 'name': '5.결론에 대신하여'}]"
     },
     "execution_count": 4,
     "metadata": {},
     "output_type": "execute_result"
    }
   ],
   "source": [
    "# Node\n",
    "data['Node_text']"
   ]
  },
  {
   "cell_type": "code",
   "execution_count": 5,
   "metadata": {},
   "outputs": [
    {
     "data": {
      "text/plain": "[{'sourceid': 'B002',\n  'targetid': 'T02SP001',\n  'relationEng': 'isCitedIn',\n  'relationKor': '인용되다'},\n {'sourceid': 'B003',\n  'targetid': 'T01SP001',\n  'relationEng': 'isCitedIn',\n  'relationKor': '인용되다'},\n {'sourceid': 'B004',\n  'targetid': 'T01SP001',\n  'relationEng': 'isCitedIn',\n  'relationKor': '인용되다'},\n {'sourceid': 'B005',\n  'targetid': 'T03SP001',\n  'relationEng': 'isCitedIn',\n  'relationKor': '인용되다'},\n {'sourceid': 'B006',\n  'targetid': 'T01SP001',\n  'relationEng': 'isCitedIn',\n  'relationKor': '인용되다'},\n {'sourceid': 'B007',\n  'targetid': 'T03SP001',\n  'relationEng': 'isCitedIn',\n  'relationKor': '인용되다'},\n {'sourceid': 'B008',\n  'targetid': 'T02SP001',\n  'relationEng': 'isCitedIn',\n  'relationKor': '인용되다'}]"
     },
     "execution_count": 5,
     "metadata": {},
     "output_type": "execute_result"
    }
   ],
   "source": [
    "# Edge\n",
    "data['Link_book2text']"
   ]
  },
  {
   "cell_type": "markdown",
   "metadata": {},
   "source": [
    "## 02 Network"
   ]
  },
  {
   "cell_type": "code",
   "execution_count": 6,
   "metadata": {},
   "outputs": [],
   "source": [
    "# 네트워크 초기화\n",
    "# G = nx.MultiGraph()\n",
    "G = nx.Graph()"
   ]
  },
  {
   "cell_type": "markdown",
   "metadata": {},
   "source": [
    "#### Node 추가"
   ]
  },
  {
   "cell_type": "code",
   "execution_count": 7,
   "metadata": {},
   "outputs": [],
   "source": [
    "# Json에서 Node만 가져오기\n",
    "Nodes = {k:v for k, v in data.items() if k.startswith('Node')}"
   ]
  },
  {
   "cell_type": "code",
   "execution_count": 8,
   "metadata": {},
   "outputs": [
    {
     "data": {
      "text/plain": "dict_keys(['Node_paper', 'Node_text', 'Node_person', 'Node_journal', 'Node_volume', 'Node_book', 'Node_publisher', 'Node_group', 'Node_term'])"
     },
     "execution_count": 8,
     "metadata": {},
     "output_type": "execute_result"
    }
   ],
   "source": [
    "Nodes.keys()"
   ]
  },
  {
   "cell_type": "code",
   "execution_count": 9,
   "metadata": {},
   "outputs": [
    {
     "data": {
      "text/plain": "'SP001'"
     },
     "execution_count": 9,
     "metadata": {},
     "output_type": "execute_result"
    }
   ],
   "source": [
    "# id(node 고유이름)\n",
    "Nodes['Node_paper'][0]['id']"
   ]
  },
  {
   "cell_type": "code",
   "execution_count": 10,
   "metadata": {},
   "outputs": [
    {
     "data": {
      "text/plain": "{'class_field': 'Paper',\n 'name': \"'문화론적 연구'의 현실 인식과 전망\",\n 'url': 'http://www.klbksk.com/wiki/index.php/HDAA0001'}"
     },
     "execution_count": 10,
     "metadata": {},
     "output_type": "execute_result"
    }
   ],
   "source": [
    "# attribute(id 제외한 속성)\n",
    "{k:v for k,v in Nodes['Node_paper'][0].items() if k!='id'}"
   ]
  },
  {
   "cell_type": "code",
   "execution_count": 11,
   "metadata": {},
   "outputs": [
    {
     "name": "stdout",
     "output_type": "stream",
     "text": [
      "Node_paper\n",
      "Node_text\n",
      "Node_person\n",
      "Node_journal\n",
      "Node_volume\n",
      "Node_book\n",
      "Node_publisher\n",
      "Node_group\n",
      "Node_term\n"
     ]
    }
   ],
   "source": [
    "# add_nodes_from 함수에 node와 attribute 투입\n",
    "for node_key in Nodes:\n",
    "    print(node_key)\n",
    "    G.add_nodes_from([(N['id'],{k:v for k,v in N.items() if k!='id'}) for N in Nodes[node_key]])"
   ]
  },
  {
   "cell_type": "code",
   "execution_count": 12,
   "metadata": {},
   "outputs": [
    {
     "data": {
      "text/plain": "NodeView(('SP001', 'SP002', 'SP003', 'SP004', 'SP005', 'SP006', 'SP007', 'SP008', 'SP009', 'SP010', 'SP011', 'SP012', 'T01SP001', 'T02SP001', 'T03SP001', 'T04SP001', 'T05SP001', 'P001', 'P002', 'P003', 'P004', 'P005', 'P006', 'P007', 'P008', 'P009', 'P010', 'P011', 'P012', 'P013', 'P014', 'P015', 'P016', 'P017', 'P018', 'P019', 'J001', 'J002', 'J003', 'J004', 'J005', 'J006', 'J007', 'J008', 'J009', 'V001', 'V002', 'V003', 'V004', 'V005', 'V006', 'V007', 'V008', 'V009', 'V010', 'B001', 'B002', 'B003', 'B004', 'B005', 'B006', 'B007', 'B008', 'PB001', 'PB002', 'PB003', 'PB004', 'PB005', 'PB006', 'PB007', 'G001', 'G002', 'G003', 'G004', 'G005', 'G006', 'TM001', 'TM002', 'TM003'))"
     },
     "execution_count": 12,
     "metadata": {},
     "output_type": "execute_result"
    }
   ],
   "source": [
    "# 추가된 node 확인\n",
    "G.nodes"
   ]
  },
  {
   "cell_type": "markdown",
   "metadata": {},
   "source": [
    "#### Edge 추가"
   ]
  },
  {
   "cell_type": "code",
   "execution_count": 13,
   "metadata": {},
   "outputs": [
    {
     "data": {
      "text/plain": "{'Link_person2paper': [{'sourceid': 'P001',\n   'targetid': 'SP001',\n   'relationEng': 'writes',\n   'relationKor': '저술하다'},\n  {'sourceid': 'P002',\n   'targetid': 'SP002',\n   'relationEng': 'writes',\n   'relationKor': '저술하다'},\n  {'sourceid': 'P003',\n   'targetid': 'SP003',\n   'relationEng': 'writes',\n   'relationKor': '저술하다'},\n  {'sourceid': 'P004',\n   'targetid': 'SP004',\n   'relationEng': 'writes',\n   'relationKor': '저술하다'},\n  {'sourceid': 'P005',\n   'targetid': 'SP005',\n   'relationEng': 'writes',\n   'relationKor': '저술하다'},\n  {'sourceid': 'P006',\n   'targetid': 'SP006',\n   'relationEng': 'writes',\n   'relationKor': '저술하다'},\n  {'sourceid': 'P007',\n   'targetid': 'SP007',\n   'relationEng': 'writes',\n   'relationKor': '저술하다'},\n  {'sourceid': 'P008',\n   'targetid': 'SP008',\n   'relationEng': 'writes',\n   'relationKor': '저술하다'},\n  {'sourceid': 'P001',\n   'targetid': 'SP009',\n   'relationEng': 'writes',\n   'relationKor': '저술하다'},\n  {'sourceid': 'P009',\n   'targetid': 'SP010',\n   'relationEng': 'writes',\n   'relationKor': '저술하다'},\n  {'sourceid': 'P010',\n   'targetid': 'SP011',\n   'relationEng': 'writes',\n   'relationKor': '저술하다'},\n  {'sourceid': 'P010',\n   'targetid': 'SP012',\n   'relationEng': 'writes',\n   'relationKor': '저술하다'}],\n 'Link_paper2volume': [{'sourceid': 'SP001',\n   'targetid': 'V001',\n   'relationEng': 'isIssuedAt',\n   'relationKor': '게재되다'},\n  {'sourceid': 'SP002',\n   'targetid': 'V002',\n   'relationEng': 'isIssuedAt',\n   'relationKor': '게재되다'},\n  {'sourceid': 'SP003',\n   'targetid': 'V003',\n   'relationEng': 'isIssuedAt',\n   'relationKor': '게재되다'},\n  {'sourceid': 'SP004',\n   'targetid': 'V004',\n   'relationEng': 'isIssuedAt',\n   'relationKor': '게재되다'},\n  {'sourceid': 'SP006',\n   'targetid': 'V005',\n   'relationEng': 'isIssuedAt',\n   'relationKor': '게재되다'},\n  {'sourceid': 'SP007',\n   'targetid': 'V006',\n   'relationEng': 'isIssuedAt',\n   'relationKor': '게재되다'},\n  {'sourceid': 'SP008',\n   'targetid': 'V003',\n   'relationEng': 'isIssuedAt',\n   'relationKor': '게재되다'},\n  {'sourceid': 'SP009',\n   'targetid': 'V007',\n   'relationEng': 'isIssuedAt',\n   'relationKor': '게재되다'},\n  {'sourceid': 'SP010',\n   'targetid': 'V008',\n   'relationEng': 'isIssuedAt',\n   'relationKor': '게재되다'},\n  {'sourceid': 'SP011',\n   'targetid': 'V009',\n   'relationEng': 'isIssuedAt',\n   'relationKor': '게재되다'},\n  {'sourceid': 'SP012',\n   'targetid': 'V010',\n   'relationEng': 'isIssuedAt',\n   'relationKor': '게재되다'}],\n 'Link_paper2book': [{'sourceid': 'SP005',\n   'targetid': 'B001',\n   'relationEng': 'isIssuedAt',\n   'relationKor': '게재되다'}],\n 'Link_volume2journal': [{'sourceid': 'V001',\n   'targetid': 'J001',\n   'relationEng': 'isPartOf',\n   'relationKor': '포함되다'},\n  {'sourceid': 'V002',\n   'targetid': 'J002',\n   'relationEng': 'isPartOf',\n   'relationKor': '포함되다'},\n  {'sourceid': 'V003',\n   'targetid': 'J003',\n   'relationEng': 'isPartOf',\n   'relationKor': '포함되다'},\n  {'sourceid': 'V004',\n   'targetid': 'J004',\n   'relationEng': 'isPartOf',\n   'relationKor': '포함되다'},\n  {'sourceid': 'V005',\n   'targetid': 'J005',\n   'relationEng': 'isPartOf',\n   'relationKor': '포함되다'},\n  {'sourceid': 'V006',\n   'targetid': 'J006',\n   'relationEng': 'isPartOf',\n   'relationKor': '포함되다'},\n  {'sourceid': 'V007',\n   'targetid': 'J007',\n   'relationEng': 'isPartOf',\n   'relationKor': '포함되다'},\n  {'sourceid': 'V008',\n   'targetid': 'J008',\n   'relationEng': 'isPartOf',\n   'relationKor': '포함되다'},\n  {'sourceid': 'V009',\n   'targetid': 'J009',\n   'relationEng': 'isPartOf',\n   'relationKor': '포함되다'},\n  {'sourceid': 'V010',\n   'targetid': 'J006',\n   'relationEng': 'isPartOf',\n   'relationKor': '포함되다'}],\n 'Link_group2journal': [{'sourceid': 'G001',\n   'targetid': 'J001',\n   'relationEng': 'compiles',\n   'relationKor': '편찬하다'},\n  {'sourceid': 'G002',\n   'targetid': 'J003',\n   'relationEng': 'compiles',\n   'relationKor': '편찬하다'},\n  {'sourceid': 'G004',\n   'targetid': 'J005',\n   'relationEng': 'compiles',\n   'relationKor': '편찬하다'},\n  {'sourceid': 'G005',\n   'targetid': 'J007',\n   'relationEng': 'compiles',\n   'relationKor': '편찬하다'},\n  {'sourceid': 'G006',\n   'targetid': 'J008',\n   'relationEng': 'compiles',\n   'relationKor': '편찬하다'}],\n 'Link_publisher2book': [{'sourceid': 'PB001',\n   'targetid': 'B001',\n   'relationEng': 'prints',\n   'relationKor': '간행하다'},\n  {'sourceid': 'PB002',\n   'targetid': 'B002',\n   'relationEng': 'prints',\n   'relationKor': '간행하다'},\n  {'sourceid': 'PB003',\n   'targetid': 'B003',\n   'relationEng': 'prints',\n   'relationKor': '간행하다'},\n  {'sourceid': 'PB002',\n   'targetid': 'B004',\n   'relationEng': 'prints',\n   'relationKor': '간행하다'},\n  {'sourceid': 'PB004',\n   'targetid': 'B005',\n   'relationEng': 'prints',\n   'relationKor': '간행하다'},\n  {'sourceid': 'PB005',\n   'targetid': 'B006',\n   'relationEng': 'prints',\n   'relationKor': '간행하다'},\n  {'sourceid': 'PB006',\n   'targetid': 'B007',\n   'relationEng': 'prints',\n   'relationKor': '간행하다'},\n  {'sourceid': 'PB007',\n   'targetid': 'B008',\n   'relationEng': 'prints',\n   'relationKor': '간행하다'}],\n 'Link_text2paper': [{'sourceid': 'T01SP001',\n   'targetid': 'SP001',\n   'relationEng': 'isPartOf',\n   'relationKor': '포함되다'},\n  {'sourceid': 'T02SP001',\n   'targetid': 'SP001',\n   'relationEng': 'isPartOf',\n   'relationKor': '포함되다'},\n  {'sourceid': 'T03SP001',\n   'targetid': 'SP001',\n   'relationEng': 'isPartOf',\n   'relationKor': '포함되다'},\n  {'sourceid': 'T04SP001',\n   'targetid': 'SP001',\n   'relationEng': 'isPartOf',\n   'relationKor': '포함되다'},\n  {'sourceid': 'T05SP001',\n   'targetid': 'SP001',\n   'relationEng': 'isPartOf',\n   'relationKor': '포함되다'}],\n 'Link_book2text': [{'sourceid': 'B002',\n   'targetid': 'T02SP001',\n   'relationEng': 'isCitedIn',\n   'relationKor': '인용되다'},\n  {'sourceid': 'B003',\n   'targetid': 'T01SP001',\n   'relationEng': 'isCitedIn',\n   'relationKor': '인용되다'},\n  {'sourceid': 'B004',\n   'targetid': 'T01SP001',\n   'relationEng': 'isCitedIn',\n   'relationKor': '인용되다'},\n  {'sourceid': 'B005',\n   'targetid': 'T03SP001',\n   'relationEng': 'isCitedIn',\n   'relationKor': '인용되다'},\n  {'sourceid': 'B006',\n   'targetid': 'T01SP001',\n   'relationEng': 'isCitedIn',\n   'relationKor': '인용되다'},\n  {'sourceid': 'B007',\n   'targetid': 'T03SP001',\n   'relationEng': 'isCitedIn',\n   'relationKor': '인용되다'},\n  {'sourceid': 'B008',\n   'targetid': 'T02SP001',\n   'relationEng': 'isCitedIn',\n   'relationKor': '인용되다'}],\n 'Link_paper2text': [{'sourceid': 'SP002',\n   'targetid': 'T02SP001',\n   'relationEng': 'isCitedIn',\n   'relationKor': '인용되다'},\n  {'sourceid': 'SP003',\n   'targetid': 'T01SP001',\n   'relationEng': 'isCitedIn',\n   'relationKor': '인용되다'},\n  {'sourceid': 'SP004',\n   'targetid': 'T02SP001',\n   'relationEng': 'isCitedIn',\n   'relationKor': '인용되다'},\n  {'sourceid': 'SP005',\n   'targetid': 'T01SP001',\n   'relationEng': 'isCitedIn',\n   'relationKor': '인용되다'},\n  {'sourceid': 'SP006',\n   'targetid': 'T02SP001',\n   'relationEng': 'isCitedIn',\n   'relationKor': '인용되다'},\n  {'sourceid': 'SP007',\n   'targetid': 'T03SP001',\n   'relationEng': 'isCitedIn',\n   'relationKor': '인용되다'},\n  {'sourceid': 'SP008',\n   'targetid': 'T01SP001',\n   'relationEng': 'isCitedIn',\n   'relationKor': '인용되다'},\n  {'sourceid': 'SP009',\n   'targetid': 'T02SP001',\n   'relationEng': 'isCitedIn',\n   'relationKor': '인용되다'},\n  {'sourceid': 'SP010',\n   'targetid': 'T03SP001',\n   'relationEng': 'isCitedIn',\n   'relationKor': '인용되다'},\n  {'sourceid': 'SP011',\n   'targetid': 'T03SP001',\n   'relationEng': 'isCitedIn',\n   'relationKor': '인용되다'},\n  {'sourceid': 'SP012',\n   'targetid': 'T02SP001',\n   'relationEng': 'isCitedIn',\n   'relationKor': '인용되다'}],\n 'Link_term2text': [{'sourceid': 'TM001',\n   'targetid': 'T03SP001',\n   'relationEng': 'isMentionedIn',\n   'relationKor': '언급되다'},\n  {'sourceid': 'TM002',\n   'targetid': 'T02SP001',\n   'relationEng': 'isMentionedIn',\n   'relationKor': '언급되다'},\n  {'sourceid': 'TM002',\n   'targetid': 'T04SP001',\n   'relationEng': 'isMentionedIn',\n   'relationKor': '언급되다'},\n  {'sourceid': 'TM003',\n   'targetid': 'T03SP001',\n   'relationEng': 'isMentionedIn',\n   'relationKor': '언급되다'},\n  {'sourceid': 'TM003',\n   'targetid': 'T04SP001',\n   'relationEng': 'isMentionedIn',\n   'relationKor': '언급되다'}],\n 'Link_person2text': [{'sourceid': 'P010',\n   'targetid': 'T02SP001',\n   'relationEng': 'isMentionedIn',\n   'relationKor': '언급되다'},\n  {'sourceid': 'P011',\n   'targetid': 'T02SP001',\n   'relationEng': 'isMentionedIn',\n   'relationKor': '언급되다'},\n  {'sourceid': 'P012',\n   'targetid': 'T01SP001',\n   'relationEng': 'isMentionedIn',\n   'relationKor': '언급되다'},\n  {'sourceid': 'P019',\n   'targetid': 'T03SP001',\n   'relationEng': 'isMentionedIn',\n   'relationKor': '언급되다'}]}"
     },
     "execution_count": 13,
     "metadata": {},
     "output_type": "execute_result"
    }
   ],
   "source": [
    "# Json에서 Edge만 가져오기\n",
    "Edges = {k:v for k, v in data.items() if k.startswith('Link')}\n",
    "Edges"
   ]
  },
  {
   "cell_type": "code",
   "execution_count": 14,
   "metadata": {},
   "outputs": [
    {
     "data": {
      "text/plain": "dict_keys(['Link_person2paper', 'Link_paper2volume', 'Link_paper2book', 'Link_volume2journal', 'Link_group2journal', 'Link_publisher2book', 'Link_text2paper', 'Link_book2text', 'Link_paper2text', 'Link_term2text', 'Link_person2text'])"
     },
     "execution_count": 14,
     "metadata": {},
     "output_type": "execute_result"
    }
   ],
   "source": [
    "Edges.keys()"
   ]
  },
  {
   "cell_type": "code",
   "execution_count": 15,
   "metadata": {},
   "outputs": [
    {
     "name": "stdout",
     "output_type": "stream",
     "text": [
      "Link_person2paper\n",
      "Link_paper2volume\n",
      "Link_paper2book\n",
      "Link_volume2journal\n",
      "Link_group2journal\n",
      "Link_publisher2book\n",
      "Link_text2paper\n",
      "Link_book2text\n",
      "Link_paper2text\n",
      "Link_term2text\n",
      "Link_person2text\n"
     ]
    }
   ],
   "source": [
    "# add_edges_from 함수에 source, target과 attribute 투입\n",
    "for edge_key in Edges:\n",
    "    print(edge_key)\n",
    "    G.add_edges_from([(E['sourceid'],E['targetid'],{k:v for k,v in E.items() if 'id' not in k}) for E in Edges[edge_key]])"
   ]
  },
  {
   "cell_type": "code",
   "execution_count": 16,
   "metadata": {},
   "outputs": [
    {
     "data": {
      "text/plain": "EdgeView([('SP001', 'P001'), ('SP001', 'V001'), ('SP001', 'T01SP001'), ('SP001', 'T02SP001'), ('SP001', 'T03SP001'), ('SP001', 'T04SP001'), ('SP001', 'T05SP001'), ('SP002', 'P002'), ('SP002', 'V002'), ('SP002', 'T02SP001'), ('SP003', 'P003'), ('SP003', 'V003'), ('SP003', 'T01SP001'), ('SP004', 'P004'), ('SP004', 'V004'), ('SP004', 'T02SP001'), ('SP005', 'P005'), ('SP005', 'B001'), ('SP005', 'T01SP001'), ('SP006', 'P006'), ('SP006', 'V005'), ('SP006', 'T02SP001'), ('SP007', 'P007'), ('SP007', 'V006'), ('SP007', 'T03SP001'), ('SP008', 'P008'), ('SP008', 'V003'), ('SP008', 'T01SP001'), ('SP009', 'P001'), ('SP009', 'V007'), ('SP009', 'T02SP001'), ('SP010', 'P009'), ('SP010', 'V008'), ('SP010', 'T03SP001'), ('SP011', 'P010'), ('SP011', 'V009'), ('SP011', 'T03SP001'), ('SP012', 'P010'), ('SP012', 'V010'), ('SP012', 'T02SP001'), ('T01SP001', 'B003'), ('T01SP001', 'B004'), ('T01SP001', 'B006'), ('T01SP001', 'P012'), ('T02SP001', 'B002'), ('T02SP001', 'B008'), ('T02SP001', 'TM002'), ('T02SP001', 'P010'), ('T02SP001', 'P011'), ('T03SP001', 'B005'), ('T03SP001', 'B007'), ('T03SP001', 'TM001'), ('T03SP001', 'TM003'), ('T03SP001', 'P019'), ('T04SP001', 'TM002'), ('T04SP001', 'TM003'), ('J001', 'V001'), ('J001', 'G001'), ('J002', 'V002'), ('J003', 'V003'), ('J003', 'G002'), ('J004', 'V004'), ('J005', 'V005'), ('J005', 'G004'), ('J006', 'V006'), ('J006', 'V010'), ('J007', 'V007'), ('J007', 'G005'), ('J008', 'V008'), ('J008', 'G006'), ('J009', 'V009'), ('B001', 'PB001'), ('B002', 'PB002'), ('B003', 'PB003'), ('B004', 'PB002'), ('B005', 'PB004'), ('B006', 'PB005'), ('B007', 'PB006'), ('B008', 'PB007')])"
     },
     "execution_count": 16,
     "metadata": {},
     "output_type": "execute_result"
    }
   ],
   "source": [
    "# 추가된 edge 확인\n",
    "G.edges"
   ]
  },
  {
   "cell_type": "markdown",
   "metadata": {},
   "source": [
    "## 03 Community Detection\n",
    "Louvain Community Detection : https://github.com/taynaud/python-louvain  \n",
    "https://github.com/timsainb/graph_research_notes/blob/master/notebooks/1.0-make-networkx-graph.ipynb"
   ]
  },
  {
   "cell_type": "code",
   "execution_count": 17,
   "metadata": {},
   "outputs": [
    {
     "data": {
      "text/plain": "{0, 1, 2, 3, 4, 5, 6, 7, 8, 9, 10, 11, 12, 13, 14}"
     },
     "execution_count": 17,
     "metadata": {},
     "output_type": "execute_result"
    }
   ],
   "source": [
    "# compute the best partition\n",
    "partition = community.best_partition(G)\n",
    "set(partition.values())"
   ]
  },
  {
   "cell_type": "code",
   "execution_count": 18,
   "metadata": {},
   "outputs": [
    {
     "data": {
      "text/plain": "<Figure size 432x288 with 1 Axes>",
      "image/png": "[encoded data removed]"
     },
     "metadata": {},
     "output_type": "display_data"
    }
   ],
   "source": [
    "# draw the graph\n",
    "# pos = nx.spring_layout(G)\n",
    "pos = nx.drawing.layout.kamada_kawai_layout(G)\n",
    "# color the nodes according to their partition\n",
    "cmap = cm.get_cmap('viridis', max(partition.values()) + 1)\n",
    "nx.draw_networkx_nodes(G, pos, partition.keys(), node_size=40,\n",
    "                       cmap=cmap, node_color=list(partition.values()))\n",
    "nx.draw_networkx_edges(G, pos, alpha=0.5)\n",
    "plt.show()"
   ]
  },
  {
   "cell_type": "code",
   "execution_count": 19,
   "metadata": {},
   "outputs": [
    {
     "data": {
      "text/plain": "<Figure size 1080x72 with 1 Axes>",
      "image/png": "[encoded data removed]"
     },
     "metadata": {
      "needs_background": "light"
     },
     "output_type": "display_data"
    }
   ],
   "source": [
    "# 커뮤니티\n",
    "pal = sns.color_palette(\"tab10\", n_colors=len(set(partition.values())))\n",
    "sns.palplot(pal)"
   ]
  },
  {
   "cell_type": "code",
   "execution_count": 20,
   "metadata": {},
   "outputs": [],
   "source": [
    "# spring_pos = nx.spring_layout(G, k=1/len(G.nodes())**.25)\n",
    "kamada_kawai_pos = nx.drawing.layout.kamada_kawai_layout(G)"
   ]
  },
  {
   "cell_type": "markdown",
   "metadata": {},
   "source": [
    "## 04 Export graph file"
   ]
  },
  {
   "cell_type": "code",
   "execution_count": 36,
   "metadata": {},
   "outputs": [],
   "source": [
    "G_Json = nx.json_graph.node_link_data(G)\n",
    "G_Json['edges'] = G_Json.pop('links')"
   ]
  },
  {
   "cell_type": "code",
   "execution_count": 37,
   "metadata": {},
   "outputs": [],
   "source": [
    "# node에 community(group), x,y, color 추가\n",
    "# kamada_kawai_layout 활용\n",
    "for node in G_Json['nodes']:\n",
    "    node['id'] = node.pop('id')\n",
    "    node['label'] = node.pop('name')\n",
    "    node['name'] = node['label']\n",
    "    node['group'] = partition[node['id']]\n",
    "    node['x'] = int(kamada_kawai_pos[node['id']][0] * 256)\n",
    "    node['y'] = int(kamada_kawai_pos[node['id']][1] * 256)\n",
    "    node['color'] = \"rgba(\"+ \",\".join([str(int(i * 255)) for i in pal[partition[node['id']]]])+ \")\""
   ]
  },
  {
   "cell_type": "code",
   "execution_count": 38,
   "outputs": [],
   "source": [
    "for i in range(len(G_Json['edges'])):\n",
    "    G_Json['edges'][i]['id']=i\n",
    "    G_Json['edges'][i]['label'] = G_Json['edges'][i]['relationKor']"
   ],
   "metadata": {
    "collapsed": false,
    "pycharm": {
     "name": "#%%\n"
    }
   }
  },
  {
   "cell_type": "code",
   "execution_count": 39,
   "metadata": {},
   "outputs": [
    {
     "data": {
      "text/plain": "{'directed': False,\n 'multigraph': False,\n 'graph': {},\n 'nodes': [{'class_field': 'Paper',\n   'url': 'http://www.klbksk.com/wiki/index.php/HDAA0001',\n   'id': 'SP001',\n   'label': \"'문화론적 연구'의 현실 인식과 전망\",\n   'name': \"'문화론적 연구'의 현실 인식과 전망\",\n   'group': 0,\n   'x': 9,\n   'y': -11,\n   'color': 'rgba(31,119,180)'},\n  {'class_field': 'Paper',\n   'url': '',\n   'id': 'SP002',\n   'label': \"'근대문학의 종언, 그리고 '소설'이라고 불리는 대략난감한 글쓰기들\",\n   'name': \"'근대문학의 종언, 그리고 '소설'이라고 불리는 대략난감한 글쓰기들\",\n   'group': 3,\n   'x': 5,\n   'y': 91,\n   'color': 'rgba(214,39,40)'},\n  {'class_field': 'Paper',\n   'url': '',\n   'id': 'SP003',\n   'label': \"'풍속사'와 문학의 질서\",\n   'name': \"'풍속사'와 문학의 질서\",\n   'group': 2,\n   'x': 127,\n   'y': -18,\n   'color': 'rgba(44,160,44)'},\n  {'class_field': 'Paper',\n   'url': '',\n   'id': 'SP004',\n   'label': '문학을 넘어서는 문학의 길',\n   'name': '문학을 넘어서는 문학의 길',\n   'group': 3,\n   'x': -37,\n   'y': 92,\n   'color': 'rgba(214,39,40)'},\n  {'class_field': 'Paper',\n   'url': '',\n   'id': 'SP005',\n   'label': '풍속·문화·문학사',\n   'name': '풍속·문화·문학사',\n   'group': 10,\n   'x': 123,\n   'y': 30,\n   'color': 'rgba(31,119,180)'},\n  {'class_field': 'Paper',\n   'url': '',\n   'id': 'SP006',\n   'label': \"'문학' '史' 없는 시대의 문학연구\",\n   'name': \"'문학' '史' 없는 시대의 문학연구\",\n   'group': 5,\n   'x': -67,\n   'y': 74,\n   'color': 'rgba(140,86,75)'},\n  {'class_field': 'Paper',\n   'url': '',\n   'id': 'SP007',\n   'label': '문학의 전락―무라카미[村上] 현상을 놓고',\n   'name': '문학의 전락―무라카미[村上] 현상을 놓고',\n   'group': 6,\n   'x': -73,\n   'y': -82,\n   'color': 'rgba(227,119,194)'},\n  {'class_field': 'Paper',\n   'url': '',\n   'id': 'SP008',\n   'label': '오딧세우스의 변명',\n   'name': '오딧세우스의 변명',\n   'group': 2,\n   'x': 120,\n   'y': -35,\n   'color': 'rgba(44,160,44)'},\n  {'class_field': 'Paper',\n   'url': '',\n   'id': 'SP009',\n   'label': '새로운 글쓰기와 문학연구에 대한 시론',\n   'name': '새로운 글쓰기와 문학연구에 대한 시론',\n   'group': 11,\n   'x': -68,\n   'y': 40,\n   'color': 'rgba(255,127,14)'},\n  {'class_field': 'Paper',\n   'url': '',\n   'id': 'SP010',\n   'label': '개인의 이데올로기를 넘어서',\n   'name': '개인의 이데올로기를 넘어서',\n   'group': 12,\n   'x': -39,\n   'y': -119,\n   'color': 'rgba(44,160,44)'},\n  {'class_field': 'Paper',\n   'url': '',\n   'id': 'SP011',\n   'label': '무엇이 한국문학의 보람인가-문학평론가 백낙청과의 대화',\n   'name': '무엇이 한국문학의 보람인가-문학평론가 백낙청과의 대화',\n   'group': 6,\n   'x': -62,\n   'y': -40,\n   'color': 'rgba(227,119,194)'},\n  {'class_field': 'Paper',\n   'url': '',\n   'id': 'SP012',\n   'label': '문학의 묵시록 이후',\n   'name': '문학의 묵시록 이후',\n   'group': 6,\n   'x': -73,\n   'y': 23,\n   'color': 'rgba(227,119,194)'},\n  {'class_field': 'Text',\n   'id': 'T01SP001',\n   'label': '1.서론',\n   'name': '1.서론',\n   'group': 2,\n   'x': 76,\n   'y': -2,\n   'color': 'rgba(44,160,44)'},\n  {'class_field': 'Text',\n   'id': 'T02SP001',\n   'label': \"2.문학사의 전회와 '문화론적 연구'\",\n   'name': \"2.문학사의 전회와 '문화론적 연구'\",\n   'group': 3,\n   'x': -23,\n   'y': 41,\n   'color': 'rgba(214,39,40)'},\n  {'class_field': 'Text',\n   'id': 'T03SP001',\n   'label': '3.근대 문학주의와 문화적 현실에 대한 성찰',\n   'name': '3.근대 문학주의와 문화적 현실에 대한 성찰',\n   'group': 12,\n   'x': -21,\n   'y': -63,\n   'color': 'rgba(44,160,44)'},\n  {'class_field': 'Text',\n   'id': 'T04SP001',\n   'label': \"4.문화사로서의 '문화론적 연구'와 문화연구로서의 '문화론적 연구'\",\n   'name': \"4.문화사로서의 '문화론적 연구'와 문화연구로서의 '문화론적 연구'\",\n   'group': 0,\n   'x': 25,\n   'y': -6,\n   'color': 'rgba(31,119,180)'},\n  {'class_field': 'Text',\n   'id': 'T05SP001',\n   'label': '5.결론에 대신하여',\n   'name': '5.결론에 대신하여',\n   'group': 0,\n   'x': 33,\n   'y': -23,\n   'color': 'rgba(31,119,180)'},\n  {'class_field': 'Person',\n   'chiname': '',\n   'id': 'P001',\n   'label': '천정환',\n   'name': '천정환',\n   'group': 11,\n   'x': -22,\n   'y': -2,\n   'color': 'rgba(255,127,14)'},\n  {'class_field': 'Person',\n   'chiname': '',\n   'id': 'P002',\n   'label': '고봉준',\n   'name': '고봉준',\n   'group': 3,\n   'x': 40,\n   'y': 128,\n   'color': 'rgba(214,39,40)'},\n  {'class_field': 'Person',\n   'chiname': '',\n   'id': 'P003',\n   'label': '권보드래',\n   'name': '권보드래',\n   'group': 2,\n   'x': 177,\n   'y': -1,\n   'color': 'rgba(44,160,44)'},\n  {'class_field': 'Person',\n   'chiname': '',\n   'id': 'P004',\n   'label': '권성우',\n   'name': '권성우',\n   'group': 3,\n   'x': -29,\n   'y': 142,\n   'color': 'rgba(214,39,40)'},\n  {'class_field': 'Person',\n   'chiname': '',\n   'id': 'P005',\n   'label': '김동식',\n   'name': '김동식',\n   'group': 10,\n   'x': 151,\n   'y': 74,\n   'color': 'rgba(31,119,180)'},\n  {'class_field': 'Person',\n   'chiname': '',\n   'id': 'P006',\n   'label': '박헌호',\n   'name': '박헌호',\n   'group': 5,\n   'x': -85,\n   'y': 117,\n   'color': 'rgba(140,86,75)'},\n  {'class_field': 'Person',\n   'chiname': '',\n   'id': 'P007',\n   'label': '유종호',\n   'name': '유종호',\n   'group': 6,\n   'x': -103,\n   'y': -125,\n   'color': 'rgba(227,119,194)'},\n  {'class_field': 'Person',\n   'chiname': '',\n   'id': 'P008',\n   'label': '이경훈',\n   'name': '이경훈',\n   'group': 2,\n   'x': 172,\n   'y': -28,\n   'color': 'rgba(44,160,44)'},\n  {'class_field': 'Person',\n   'chiname': '',\n   'id': 'P009',\n   'label': '하정일',\n   'name': '하정일',\n   'group': 12,\n   'x': -26,\n   'y': -167,\n   'color': 'rgba(44,160,44)'},\n  {'class_field': 'Person',\n   'chiname': '',\n   'id': 'P010',\n   'label': '황종연',\n   'name': '황종연',\n   'group': 6,\n   'x': -52,\n   'y': 5,\n   'color': 'rgba(227,119,194)'},\n  {'class_field': 'Person',\n   'chiname': '',\n   'id': 'P011',\n   'label': '가라타니 고진',\n   'name': '가라타니 고진',\n   'group': 3,\n   'x': -44,\n   'y': 56,\n   'color': 'rgba(214,39,40)'},\n  {'class_field': 'Person',\n   'chiname': '',\n   'id': 'P012',\n   'label': '슬라보예 지젝',\n   'name': '슬라보예 지젝',\n   'group': 2,\n   'x': 102,\n   'y': 0,\n   'color': 'rgba(44,160,44)'},\n  {'class_field': 'Person',\n   'chiname': '',\n   'id': 'P013',\n   'label': '와타나베 히로시',\n   'name': '와타나베 히로시',\n   'group': 13,\n   'x': -28,\n   'y': 31,\n   'color': 'rgba(214,39,40)'},\n  {'class_field': 'Person',\n   'chiname': '',\n   'id': 'P014',\n   'label': '토드 기틀린',\n   'name': '토드 기틀린',\n   'group': 14,\n   'x': -31,\n   'y': 29,\n   'color': 'rgba(148,103,189)'},\n  {'class_field': 'Person',\n   'chiname': '',\n   'id': 'P015',\n   'label': '토머스 L.프리드먼',\n   'name': '토머스 L.프리드먼',\n   'group': 1,\n   'x': -33,\n   'y': 26,\n   'color': 'rgba(255,127,14)'},\n  {'class_field': 'Person',\n   'chiname': '',\n   'id': 'P016',\n   'label': '조성면',\n   'name': '조성면',\n   'group': 4,\n   'x': -35,\n   'y': 24,\n   'color': 'rgba(148,103,189)'},\n  {'class_field': 'Person',\n   'chiname': '',\n   'id': 'P017',\n   'label': '남재일',\n   'name': '남재일',\n   'group': 7,\n   'x': -37,\n   'y': 21,\n   'color': 'rgba(127,127,127)'},\n  {'class_field': 'Person',\n   'chiname': '',\n   'id': 'P018',\n   'label': '김상철',\n   'name': '김상철',\n   'group': 8,\n   'x': -39,\n   'y': 18,\n   'color': 'rgba(188,189,34)'},\n  {'class_field': 'Person',\n   'chiname': '',\n   'id': 'P019',\n   'label': '박민규',\n   'name': '박민규',\n   'group': 12,\n   'x': -49,\n   'y': -80,\n   'color': 'rgba(44,160,44)'},\n  {'class_field': 'Journal',\n   'chiname': '',\n   'id': 'J001',\n   'label': '상허학보',\n   'name': '상허학보',\n   'group': 0,\n   'x': 69,\n   'y': -98,\n   'color': 'rgba(31,119,180)'},\n  {'class_field': 'Journal',\n   'chiname': '',\n   'id': 'J002',\n   'label': '작가와 비평',\n   'name': '작가와 비평',\n   'group': 3,\n   'x': 29,\n   'y': 198,\n   'color': 'rgba(214,39,40)'},\n  {'class_field': 'Journal',\n   'chiname': '',\n   'id': 'J003',\n   'label': '현대소설연구',\n   'name': '현대소설연구',\n   'group': 2,\n   'x': 211,\n   'y': -80,\n   'color': 'rgba(44,160,44)'},\n  {'class_field': 'Journal',\n   'chiname': '',\n   'id': 'J004',\n   'label': '문학수첩',\n   'name': '문학수첩',\n   'group': 3,\n   'x': -64,\n   'y': 195,\n   'color': 'rgba(214,39,40)'},\n  {'class_field': 'Journal',\n   'chiname': '',\n   'id': 'J005',\n   'label': '역사비평',\n   'name': '역사비평',\n   'group': 5,\n   'x': -146,\n   'y': 144,\n   'color': 'rgba(140,86,75)'},\n  {'class_field': 'Journal',\n   'chiname': '',\n   'id': 'J006',\n   'label': '현대문학',\n   'name': '현대문학',\n   'group': 6,\n   'x': -155,\n   'y': -34,\n   'color': 'rgba(227,119,194)'},\n  {'class_field': 'Journal',\n   'chiname': '',\n   'id': 'J007',\n   'label': '민족문학사연구',\n   'name': '민족문학사연구',\n   'group': 11,\n   'x': -179,\n   'y': 66,\n   'color': 'rgba(255,127,14)'},\n  {'class_field': 'Journal',\n   'chiname': '',\n   'id': 'J008',\n   'label': '비평과 전망',\n   'name': '비평과 전망',\n   'group': 12,\n   'x': -80,\n   'y': -211,\n   'color': 'rgba(44,160,44)'},\n  {'class_field': 'Journal',\n   'chiname': '',\n   'id': 'J009',\n   'label': '창작과 비평',\n   'name': '창작과 비평',\n   'group': 6,\n   'x': -168,\n   'y': -79,\n   'color': 'rgba(227,119,194)'},\n  {'class_field': 'Volume',\n   'chiname': '',\n   'id': 'V001',\n   'label': '상허학보_19',\n   'name': '상허학보_19',\n   'group': 0,\n   'x': 38,\n   'y': -48,\n   'color': 'rgba(31,119,180)'},\n  {'class_field': 'Volume',\n   'chiname': '',\n   'id': 'V002',\n   'label': '작가와 비평_2006상반기',\n   'name': '작가와 비평_2006상반기',\n   'group': 3,\n   'x': 16,\n   'y': 148,\n   'color': 'rgba(214,39,40)'},\n  {'class_field': 'Volume',\n   'chiname': '',\n   'id': 'V003',\n   'label': '현대소설연구_27',\n   'name': '현대소설연구_27',\n   'group': 2,\n   'x': 163,\n   'y': -60,\n   'color': 'rgba(44,160,44)'},\n  {'class_field': 'Volume',\n   'chiname': '',\n   'id': 'V004',\n   'label': '문학수첩_2005봄',\n   'name': '문학수첩_2005봄',\n   'group': 3,\n   'x': -60,\n   'y': 142,\n   'color': 'rgba(214,39,40)'},\n  {'class_field': 'Volume',\n   'chiname': '',\n   'id': 'V005',\n   'label': '역사비평_75',\n   'name': '역사비평_75',\n   'group': 5,\n   'x': -114,\n   'y': 102,\n   'color': 'rgba(140,86,75)'},\n  {'class_field': 'Volume',\n   'chiname': '',\n   'id': 'V006',\n   'label': '현대문학_2006.06',\n   'name': '현대문학_2006.06',\n   'group': 6,\n   'x': -126,\n   'y': -81,\n   'color': 'rgba(227,119,194)'},\n  {'class_field': 'Volume',\n   'chiname': '',\n   'id': 'V007',\n   'label': '민족문학사연구_26',\n   'name': '민족문학사연구_26',\n   'group': 11,\n   'x': -126,\n   'y': 54,\n   'color': 'rgba(255,127,14)'},\n  {'class_field': 'Volume',\n   'chiname': '',\n   'id': 'V008',\n   'label': '비평과 전망_8',\n   'name': '비평과 전망_8',\n   'group': 12,\n   'x': -66,\n   'y': -164,\n   'color': 'rgba(44,160,44)'},\n  {'class_field': 'Volume',\n   'chiname': '',\n   'id': 'V009',\n   'label': '창작과 비평_131',\n   'name': '창작과 비평_131',\n   'group': 6,\n   'x': -117,\n   'y': -56,\n   'color': 'rgba(227,119,194)'},\n  {'class_field': 'Volume',\n   'chiname': '',\n   'id': 'V010',\n   'label': '현대문학_2006.08',\n   'name': '현대문학_2006.08',\n   'group': 6,\n   'x': -125,\n   'y': 8,\n   'color': 'rgba(227,119,194)'},\n  {'class_field': 'Book',\n   'engname': '',\n   'id': 'B001',\n   'label': '거울과 미로',\n   'name': '거울과 미로',\n   'group': 10,\n   'x': 174,\n   'y': 47,\n   'color': 'rgba(31,119,180)'},\n  {'class_field': 'Book',\n   'engname': '',\n   'id': 'B002',\n   'label': '근대문학의 종언',\n   'name': '근대문학의 종언',\n   'group': 2,\n   'x': 13,\n   'y': 62,\n   'color': 'rgba(44,160,44)'},\n  {'class_field': 'Book',\n   'engname': '',\n   'id': 'B003',\n   'label': '해방전후사의 재인식',\n   'name': '해방전후사의 재인식',\n   'group': 2,\n   'x': 95,\n   'y': -47,\n   'color': 'rgba(44,160,44)'},\n  {'class_field': 'Book',\n   'engname': '',\n   'id': 'B004',\n   'label': '신체 없는 기관-들뢰즈와 결과들',\n   'name': '신체 없는 기관-들뢰즈와 결과들',\n   'group': 2,\n   'x': 79,\n   'y': 37,\n   'color': 'rgba(44,160,44)'},\n  {'class_field': 'Book',\n   'engname': '',\n   'id': 'B005',\n   'label': '청중의 탄생',\n   'name': '청중의 탄생',\n   'group': 12,\n   'x': -4,\n   'y': -111,\n   'color': 'rgba(44,160,44)'},\n  {'class_field': 'Book',\n   'engname': '',\n   'id': 'B006',\n   'label': '대중문학과 정전에 대한 반역',\n   'name': '대중문학과 정전에 대한 반역',\n   'group': 2,\n   'x': 101,\n   'y': 42,\n   'color': 'rgba(44,160,44)'},\n  {'class_field': 'Book',\n   'engname': '',\n   'id': 'B007',\n   'label': '무한 미디어',\n   'name': '무한 미디어',\n   'group': 12,\n   'x': 14,\n   'y': -104,\n   'color': 'rgba(44,160,44)'},\n  {'class_field': 'Book',\n   'engname': '',\n   'id': 'B008',\n   'label': '세계는 평평하다',\n   'name': '세계는 평평하다',\n   'group': 3,\n   'x': -14,\n   'y': 79,\n   'color': 'rgba(214,39,40)'},\n  {'class_field': 'Publisher',\n   'id': 'PB001',\n   'label': '천년의시작',\n   'name': '천년의시작',\n   'group': 10,\n   'x': 217,\n   'y': 74,\n   'color': 'rgba(31,119,180)'},\n  {'class_field': 'Publisher',\n   'id': 'PB002',\n   'label': '도서출판b',\n   'name': '도서출판b',\n   'group': 2,\n   'x': 62,\n   'y': 82,\n   'color': 'rgba(44,160,44)'},\n  {'class_field': 'Publisher',\n   'id': 'PB003',\n   'label': '책세상',\n   'name': '책세상',\n   'group': 2,\n   'x': 132,\n   'y': -90,\n   'color': 'rgba(44,160,44)'},\n  {'class_field': 'Publisher',\n   'id': 'PB004',\n   'label': '강',\n   'name': '강',\n   'group': 12,\n   'x': 7,\n   'y': -165,\n   'color': 'rgba(44,160,44)'},\n  {'class_field': 'Publisher',\n   'id': 'PB005',\n   'label': '소명출판',\n   'name': '소명출판',\n   'group': 2,\n   'x': 133,\n   'y': 89,\n   'color': 'rgba(44,160,44)'},\n  {'class_field': 'Publisher',\n   'id': 'PB006',\n   'label': '휴먼앤북스',\n   'name': '휴먼앤북스',\n   'group': 12,\n   'x': 34,\n   'y': -156,\n   'color': 'rgba(44,160,44)'},\n  {'class_field': 'Publisher',\n   'id': 'PB007',\n   'label': '창해',\n   'name': '창해',\n   'group': 3,\n   'x': -5,\n   'y': 136,\n   'color': 'rgba(214,39,40)'},\n  {'class_field': 'Group',\n   'chiname': '',\n   'id': 'G001',\n   'label': '상허학회',\n   'name': '상허학회',\n   'group': 0,\n   'x': 97,\n   'y': -146,\n   'color': 'rgba(31,119,180)'},\n  {'class_field': 'Group',\n   'chiname': '',\n   'id': 'G002',\n   'label': '한국현대소설학회',\n   'name': '한국현대소설학회',\n   'group': 2,\n   'x': 256,\n   'y': -93,\n   'color': 'rgba(44,160,44)'},\n  {'class_field': 'Group',\n   'chiname': '',\n   'id': 'G003',\n   'label': '동국대 한국문화연구소',\n   'name': '동국대 한국문화연구소',\n   'group': 9,\n   'x': 36,\n   'y': -22,\n   'color': 'rgba(23,190,207)'},\n  {'class_field': 'Group',\n   'chiname': '',\n   'id': 'G004',\n   'label': '역사문제연구소',\n   'name': '역사문제연구소',\n   'group': 5,\n   'x': -173,\n   'y': 183,\n   'color': 'rgba(140,86,75)'},\n  {'class_field': 'Group',\n   'chiname': '',\n   'id': 'G005',\n   'label': '민족문학사학회',\n   'name': '민족문학사학회',\n   'group': 11,\n   'x': -226,\n   'y': 78,\n   'color': 'rgba(255,127,14)'},\n  {'class_field': 'Group',\n   'chiname': '',\n   'id': 'G006',\n   'label': '작가와비평 편집동인',\n   'name': '작가와비평 편집동인',\n   'group': 12,\n   'x': -92,\n   'y': -255,\n   'color': 'rgba(44,160,44)'},\n  {'class_field': 'Term',\n   'id': 'TM001',\n   'label': '정상성',\n   'name': '정상성',\n   'group': 12,\n   'x': -25,\n   'y': -94,\n   'color': 'rgba(44,160,44)'},\n  {'class_field': 'Term',\n   'id': 'TM002',\n   'label': '근대성',\n   'name': '근대성',\n   'group': 0,\n   'x': 0,\n   'y': 34,\n   'color': 'rgba(31,119,180)'},\n  {'class_field': 'Term',\n   'id': 'TM003',\n   'label': '대중문화',\n   'name': '대중문화',\n   'group': 0,\n   'x': 7,\n   'y': -64,\n   'color': 'rgba(31,119,180)'}],\n 'edges': [{'relationEng': 'writes',\n   'relationKor': '저술하다',\n   'source': 'SP001',\n   'target': 'P001',\n   'id': 0,\n   'label': '저술하다'},\n  {'relationEng': 'isIssuedAt',\n   'relationKor': '게재되다',\n   'source': 'SP001',\n   'target': 'V001',\n   'id': 1,\n   'label': '게재되다'},\n  {'relationEng': 'isPartOf',\n   'relationKor': '포함되다',\n   'source': 'SP001',\n   'target': 'T01SP001',\n   'id': 2,\n   'label': '포함되다'},\n  {'relationEng': 'isPartOf',\n   'relationKor': '포함되다',\n   'source': 'SP001',\n   'target': 'T02SP001',\n   'id': 3,\n   'label': '포함되다'},\n  {'relationEng': 'isPartOf',\n   'relationKor': '포함되다',\n   'source': 'SP001',\n   'target': 'T03SP001',\n   'id': 4,\n   'label': '포함되다'},\n  {'relationEng': 'isPartOf',\n   'relationKor': '포함되다',\n   'source': 'SP001',\n   'target': 'T04SP001',\n   'id': 5,\n   'label': '포함되다'},\n  {'relationEng': 'isPartOf',\n   'relationKor': '포함되다',\n   'source': 'SP001',\n   'target': 'T05SP001',\n   'id': 6,\n   'label': '포함되다'},\n  {'relationEng': 'writes',\n   'relationKor': '저술하다',\n   'source': 'SP002',\n   'target': 'P002',\n   'id': 7,\n   'label': '저술하다'},\n  {'relationEng': 'isIssuedAt',\n   'relationKor': '게재되다',\n   'source': 'SP002',\n   'target': 'V002',\n   'id': 8,\n   'label': '게재되다'},\n  {'relationEng': 'isCitedIn',\n   'relationKor': '인용되다',\n   'source': 'SP002',\n   'target': 'T02SP001',\n   'id': 9,\n   'label': '인용되다'},\n  {'relationEng': 'writes',\n   'relationKor': '저술하다',\n   'source': 'SP003',\n   'target': 'P003',\n   'id': 10,\n   'label': '저술하다'},\n  {'relationEng': 'isIssuedAt',\n   'relationKor': '게재되다',\n   'source': 'SP003',\n   'target': 'V003',\n   'id': 11,\n   'label': '게재되다'},\n  {'relationEng': 'isCitedIn',\n   'relationKor': '인용되다',\n   'source': 'SP003',\n   'target': 'T01SP001',\n   'id': 12,\n   'label': '인용되다'},\n  {'relationEng': 'writes',\n   'relationKor': '저술하다',\n   'source': 'SP004',\n   'target': 'P004',\n   'id': 13,\n   'label': '저술하다'},\n  {'relationEng': 'isIssuedAt',\n   'relationKor': '게재되다',\n   'source': 'SP004',\n   'target': 'V004',\n   'id': 14,\n   'label': '게재되다'},\n  {'relationEng': 'isCitedIn',\n   'relationKor': '인용되다',\n   'source': 'SP004',\n   'target': 'T02SP001',\n   'id': 15,\n   'label': '인용되다'},\n  {'relationEng': 'writes',\n   'relationKor': '저술하다',\n   'source': 'SP005',\n   'target': 'P005',\n   'id': 16,\n   'label': '저술하다'},\n  {'relationEng': 'isIssuedAt',\n   'relationKor': '게재되다',\n   'source': 'SP005',\n   'target': 'B001',\n   'id': 17,\n   'label': '게재되다'},\n  {'relationEng': 'isCitedIn',\n   'relationKor': '인용되다',\n   'source': 'SP005',\n   'target': 'T01SP001',\n   'id': 18,\n   'label': '인용되다'},\n  {'relationEng': 'writes',\n   'relationKor': '저술하다',\n   'source': 'SP006',\n   'target': 'P006',\n   'id': 19,\n   'label': '저술하다'},\n  {'relationEng': 'isIssuedAt',\n   'relationKor': '게재되다',\n   'source': 'SP006',\n   'target': 'V005',\n   'id': 20,\n   'label': '게재되다'},\n  {'relationEng': 'isCitedIn',\n   'relationKor': '인용되다',\n   'source': 'SP006',\n   'target': 'T02SP001',\n   'id': 21,\n   'label': '인용되다'},\n  {'relationEng': 'writes',\n   'relationKor': '저술하다',\n   'source': 'SP007',\n   'target': 'P007',\n   'id': 22,\n   'label': '저술하다'},\n  {'relationEng': 'isIssuedAt',\n   'relationKor': '게재되다',\n   'source': 'SP007',\n   'target': 'V006',\n   'id': 23,\n   'label': '게재되다'},\n  {'relationEng': 'isCitedIn',\n   'relationKor': '인용되다',\n   'source': 'SP007',\n   'target': 'T03SP001',\n   'id': 24,\n   'label': '인용되다'},\n  {'relationEng': 'writes',\n   'relationKor': '저술하다',\n   'source': 'SP008',\n   'target': 'P008',\n   'id': 25,\n   'label': '저술하다'},\n  {'relationEng': 'isIssuedAt',\n   'relationKor': '게재되다',\n   'source': 'SP008',\n   'target': 'V003',\n   'id': 26,\n   'label': '게재되다'},\n  {'relationEng': 'isCitedIn',\n   'relationKor': '인용되다',\n   'source': 'SP008',\n   'target': 'T01SP001',\n   'id': 27,\n   'label': '인용되다'},\n  {'relationEng': 'writes',\n   'relationKor': '저술하다',\n   'source': 'SP009',\n   'target': 'P001',\n   'id': 28,\n   'label': '저술하다'},\n  {'relationEng': 'isIssuedAt',\n   'relationKor': '게재되다',\n   'source': 'SP009',\n   'target': 'V007',\n   'id': 29,\n   'label': '게재되다'},\n  {'relationEng': 'isCitedIn',\n   'relationKor': '인용되다',\n   'source': 'SP009',\n   'target': 'T02SP001',\n   'id': 30,\n   'label': '인용되다'},\n  {'relationEng': 'writes',\n   'relationKor': '저술하다',\n   'source': 'SP010',\n   'target': 'P009',\n   'id': 31,\n   'label': '저술하다'},\n  {'relationEng': 'isIssuedAt',\n   'relationKor': '게재되다',\n   'source': 'SP010',\n   'target': 'V008',\n   'id': 32,\n   'label': '게재되다'},\n  {'relationEng': 'isCitedIn',\n   'relationKor': '인용되다',\n   'source': 'SP010',\n   'target': 'T03SP001',\n   'id': 33,\n   'label': '인용되다'},\n  {'relationEng': 'writes',\n   'relationKor': '저술하다',\n   'source': 'SP011',\n   'target': 'P010',\n   'id': 34,\n   'label': '저술하다'},\n  {'relationEng': 'isIssuedAt',\n   'relationKor': '게재되다',\n   'source': 'SP011',\n   'target': 'V009',\n   'id': 35,\n   'label': '게재되다'},\n  {'relationEng': 'isCitedIn',\n   'relationKor': '인용되다',\n   'source': 'SP011',\n   'target': 'T03SP001',\n   'id': 36,\n   'label': '인용되다'},\n  {'relationEng': 'writes',\n   'relationKor': '저술하다',\n   'source': 'SP012',\n   'target': 'P010',\n   'id': 37,\n   'label': '저술하다'},\n  {'relationEng': 'isIssuedAt',\n   'relationKor': '게재되다',\n   'source': 'SP012',\n   'target': 'V010',\n   'id': 38,\n   'label': '게재되다'},\n  {'relationEng': 'isCitedIn',\n   'relationKor': '인용되다',\n   'source': 'SP012',\n   'target': 'T02SP001',\n   'id': 39,\n   'label': '인용되다'},\n  {'relationEng': 'isCitedIn',\n   'relationKor': '인용되다',\n   'source': 'T01SP001',\n   'target': 'B003',\n   'id': 40,\n   'label': '인용되다'},\n  {'relationEng': 'isCitedIn',\n   'relationKor': '인용되다',\n   'source': 'T01SP001',\n   'target': 'B004',\n   'id': 41,\n   'label': '인용되다'},\n  {'relationEng': 'isCitedIn',\n   'relationKor': '인용되다',\n   'source': 'T01SP001',\n   'target': 'B006',\n   'id': 42,\n   'label': '인용되다'},\n  {'relationEng': 'isMentionedIn',\n   'relationKor': '언급되다',\n   'source': 'T01SP001',\n   'target': 'P012',\n   'id': 43,\n   'label': '언급되다'},\n  {'relationEng': 'isCitedIn',\n   'relationKor': '인용되다',\n   'source': 'T02SP001',\n   'target': 'B002',\n   'id': 44,\n   'label': '인용되다'},\n  {'relationEng': 'isCitedIn',\n   'relationKor': '인용되다',\n   'source': 'T02SP001',\n   'target': 'B008',\n   'id': 45,\n   'label': '인용되다'},\n  {'relationEng': 'isMentionedIn',\n   'relationKor': '언급되다',\n   'source': 'T02SP001',\n   'target': 'TM002',\n   'id': 46,\n   'label': '언급되다'},\n  {'relationEng': 'isMentionedIn',\n   'relationKor': '언급되다',\n   'source': 'T02SP001',\n   'target': 'P010',\n   'id': 47,\n   'label': '언급되다'},\n  {'relationEng': 'isMentionedIn',\n   'relationKor': '언급되다',\n   'source': 'T02SP001',\n   'target': 'P011',\n   'id': 48,\n   'label': '언급되다'},\n  {'relationEng': 'isCitedIn',\n   'relationKor': '인용되다',\n   'source': 'T03SP001',\n   'target': 'B005',\n   'id': 49,\n   'label': '인용되다'},\n  {'relationEng': 'isCitedIn',\n   'relationKor': '인용되다',\n   'source': 'T03SP001',\n   'target': 'B007',\n   'id': 50,\n   'label': '인용되다'},\n  {'relationEng': 'isMentionedIn',\n   'relationKor': '언급되다',\n   'source': 'T03SP001',\n   'target': 'TM001',\n   'id': 51,\n   'label': '언급되다'},\n  {'relationEng': 'isMentionedIn',\n   'relationKor': '언급되다',\n   'source': 'T03SP001',\n   'target': 'TM003',\n   'id': 52,\n   'label': '언급되다'},\n  {'relationEng': 'isMentionedIn',\n   'relationKor': '언급되다',\n   'source': 'T03SP001',\n   'target': 'P019',\n   'id': 53,\n   'label': '언급되다'},\n  {'relationEng': 'isMentionedIn',\n   'relationKor': '언급되다',\n   'source': 'T04SP001',\n   'target': 'TM002',\n   'id': 54,\n   'label': '언급되다'},\n  {'relationEng': 'isMentionedIn',\n   'relationKor': '언급되다',\n   'source': 'T04SP001',\n   'target': 'TM003',\n   'id': 55,\n   'label': '언급되다'},\n  {'relationEng': 'isPartOf',\n   'relationKor': '포함되다',\n   'source': 'J001',\n   'target': 'V001',\n   'id': 56,\n   'label': '포함되다'},\n  {'relationEng': 'compiles',\n   'relationKor': '편찬하다',\n   'source': 'J001',\n   'target': 'G001',\n   'id': 57,\n   'label': '편찬하다'},\n  {'relationEng': 'isPartOf',\n   'relationKor': '포함되다',\n   'source': 'J002',\n   'target': 'V002',\n   'id': 58,\n   'label': '포함되다'},\n  {'relationEng': 'isPartOf',\n   'relationKor': '포함되다',\n   'source': 'J003',\n   'target': 'V003',\n   'id': 59,\n   'label': '포함되다'},\n  {'relationEng': 'compiles',\n   'relationKor': '편찬하다',\n   'source': 'J003',\n   'target': 'G002',\n   'id': 60,\n   'label': '편찬하다'},\n  {'relationEng': 'isPartOf',\n   'relationKor': '포함되다',\n   'source': 'J004',\n   'target': 'V004',\n   'id': 61,\n   'label': '포함되다'},\n  {'relationEng': 'isPartOf',\n   'relationKor': '포함되다',\n   'source': 'J005',\n   'target': 'V005',\n   'id': 62,\n   'label': '포함되다'},\n  {'relationEng': 'compiles',\n   'relationKor': '편찬하다',\n   'source': 'J005',\n   'target': 'G004',\n   'id': 63,\n   'label': '편찬하다'},\n  {'relationEng': 'isPartOf',\n   'relationKor': '포함되다',\n   'source': 'J006',\n   'target': 'V006',\n   'id': 64,\n   'label': '포함되다'},\n  {'relationEng': 'isPartOf',\n   'relationKor': '포함되다',\n   'source': 'J006',\n   'target': 'V010',\n   'id': 65,\n   'label': '포함되다'},\n  {'relationEng': 'isPartOf',\n   'relationKor': '포함되다',\n   'source': 'J007',\n   'target': 'V007',\n   'id': 66,\n   'label': '포함되다'},\n  {'relationEng': 'compiles',\n   'relationKor': '편찬하다',\n   'source': 'J007',\n   'target': 'G005',\n   'id': 67,\n   'label': '편찬하다'},\n  {'relationEng': 'isPartOf',\n   'relationKor': '포함되다',\n   'source': 'J008',\n   'target': 'V008',\n   'id': 68,\n   'label': '포함되다'},\n  {'relationEng': 'compiles',\n   'relationKor': '편찬하다',\n   'source': 'J008',\n   'target': 'G006',\n   'id': 69,\n   'label': '편찬하다'},\n  {'relationEng': 'isPartOf',\n   'relationKor': '포함되다',\n   'source': 'J009',\n   'target': 'V009',\n   'id': 70,\n   'label': '포함되다'},\n  {'relationEng': 'prints',\n   'relationKor': '간행하다',\n   'source': 'B001',\n   'target': 'PB001',\n   'id': 71,\n   'label': '간행하다'},\n  {'relationEng': 'prints',\n   'relationKor': '간행하다',\n   'source': 'B002',\n   'target': 'PB002',\n   'id': 72,\n   'label': '간행하다'},\n  {'relationEng': 'prints',\n   'relationKor': '간행하다',\n   'source': 'B003',\n   'target': 'PB003',\n   'id': 73,\n   'label': '간행하다'},\n  {'relationEng': 'prints',\n   'relationKor': '간행하다',\n   'source': 'B004',\n   'target': 'PB002',\n   'id': 74,\n   'label': '간행하다'},\n  {'relationEng': 'prints',\n   'relationKor': '간행하다',\n   'source': 'B005',\n   'target': 'PB004',\n   'id': 75,\n   'label': '간행하다'},\n  {'relationEng': 'prints',\n   'relationKor': '간행하다',\n   'source': 'B006',\n   'target': 'PB005',\n   'id': 76,\n   'label': '간행하다'},\n  {'relationEng': 'prints',\n   'relationKor': '간행하다',\n   'source': 'B007',\n   'target': 'PB006',\n   'id': 77,\n   'label': '간행하다'},\n  {'relationEng': 'prints',\n   'relationKor': '간행하다',\n   'source': 'B008',\n   'target': 'PB007',\n   'id': 78,\n   'label': '간행하다'}]}"
     },
     "execution_count": 39,
     "metadata": {},
     "output_type": "execute_result"
    }
   ],
   "source": [
    "G_Json"
   ]
  },
  {
   "cell_type": "code",
   "execution_count": 40,
   "metadata": {},
   "outputs": [],
   "source": [
    "# json 파일로 네트워크 저장\n",
    "# json.dump(G_Json,open('graph_data.json','w'))\n",
    "with open('graph_data.json', 'w') as f:\n",
    "    json.dump(G_Json,\n",
    "              f, indent=4)"
   ]
  },
  {
   "cell_type": "code",
   "execution_count": null,
   "outputs": [],
   "source": [],
   "metadata": {
    "collapsed": false,
    "pycharm": {
     "name": "#%%\n"
    }
   }
  }
 ],
 "metadata": {
  "interpreter": {
   "hash": "fa1ce5f2e35016e754526e2c3cc0910ec09b687ec6a4d17f2a209f696092b54b"
  },
  "kernelspec": {
   "display_name": "Python 3.8.12 64-bit ('python38': conda)",
   "language": "python",
   "name": "python3"
  },
  "language_info": {
   "codemirror_mode": {
    "name": "ipython",
    "version": 3
   },
   "file_extension": ".py",
   "mimetype": "text/x-python",
   "name": "python",
   "nbconvert_exporter": "python",
   "pygments_lexer": "ipython3",
   "version": "3.8.12"
  },
  "orig_nbformat": 4
 },
 "nbformat": 4,
 "nbformat_minor": 2
}